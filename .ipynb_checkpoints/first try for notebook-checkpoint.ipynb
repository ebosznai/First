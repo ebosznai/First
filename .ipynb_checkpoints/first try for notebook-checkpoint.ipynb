{
 "cells": [
  {
   "cell_type": "markdown",
   "id": "e4a06977-eebe-4968-ab2c-e7de98d824f4",
   "metadata": {},
   "source": [
    "#first try at a notebook file in another folder\n"
   ]
  },
  {
   "cell_type": "code",
   "execution_count": 1,
   "id": "3684484c-2b51-4fe6-be43-5875328d182a",
   "metadata": {},
   "outputs": [
    {
     "name": "stdout",
     "output_type": "stream",
     "text": [
      "hello world\n"
     ]
    }
   ],
   "source": [
    "print(\"hello world\")"
   ]
  },
  {
   "cell_type": "markdown",
   "id": "291f502f-0dbf-4a16-a2a5-08c78ceb2918",
   "metadata": {},
   "source": [
    "AAAAAAAAAAAAAAAAAAAAAAAAAAAAAAAAAAAAAAAAAAAAAAAAAAAAAAAAAAAAAAAAAAAAAAAAAAAA\n"
   ]
  },
  {
   "cell_type": "code",
   "execution_count": 2,
   "id": "7f475423-2fcf-4e3c-91c4-018c8d81305a",
   "metadata": {},
   "outputs": [
    {
     "name": "stdout",
     "output_type": "stream",
     "text": [
      "yolo\n",
      "yolo\n",
      "yolo\n",
      "yolo\n",
      "yolo\n",
      "yolo\n",
      "yolo\n",
      "yolo\n",
      "yolo\n",
      "yolo\n"
     ]
    }
   ],
   "source": [
    "for i in range(10):\n",
    "    print(\"yolo\")"
   ]
  },
  {
   "cell_type": "code",
   "execution_count": null,
   "id": "fc11b811-bc09-4b7d-9853-a2088a7cc2bd",
   "metadata": {},
   "outputs": [],
   "source": []
  }
 ],
 "metadata": {
  "kernelspec": {
   "display_name": "Python [conda env:adsml] *",
   "language": "python",
   "name": "conda-env-adsml-py"
  },
  "language_info": {
   "codemirror_mode": {
    "name": "ipython",
    "version": 3
   },
   "file_extension": ".py",
   "mimetype": "text/x-python",
   "name": "python",
   "nbconvert_exporter": "python",
   "pygments_lexer": "ipython3",
   "version": "3.9.16"
  }
 },
 "nbformat": 4,
 "nbformat_minor": 5
}
